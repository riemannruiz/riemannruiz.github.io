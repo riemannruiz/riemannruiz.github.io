{
  "nbformat": 4,
  "nbformat_minor": 0,
  "metadata": {
    "colab": {
      "name": "P0.ipynb",
      "provenance": [],
      "authorship_tag": "ABX9TyPfAxTiJK3sz3AZcC7ONql9",
      "include_colab_link": true
    },
    "kernelspec": {
      "name": "python3",
      "display_name": "Python 3"
    }
  },
  "cells": [
    {
      "cell_type": "markdown",
      "metadata": {
        "id": "view-in-github",
        "colab_type": "text"
      },
      "source": [
        "<a href=\"https://colab.research.google.com/github/riemannruiz/riemannruiz.github.io/blob/master/P0.ipynb\" target=\"_parent\"><img src=\"https://colab.research.google.com/assets/colab-badge.svg\" alt=\"Open In Colab\"/></a>"
      ]
    },
    {
      "cell_type": "markdown",
      "metadata": {
        "id": "M2weih2VzBjo",
        "colab_type": "text"
      },
      "source": [
        "## **Índices de similitud**\n",
        "En este ejercicio tiene como objetivo explorar los índices de similitud usando diferentes tipos de datos. Para este ejemplo se utilizan un conjunto de datos generados por alumnos de la universidad, a quienes les fue solicitado la calificación de un conjunto de películas en una escala de 1 a 5 estrellas."
      ]
    },
    {
      "cell_type": "markdown",
      "metadata": {
        "id": "PXsI9uRSz4cH",
        "colab_type": "text"
      },
      "source": [
        "Cargar las librerías necesarias para ejecutar el ejercicio."
      ]
    },
    {
      "cell_type": "code",
      "metadata": {
        "id": "RkizIvknyiHO",
        "colab_type": "code",
        "colab": {}
      },
      "source": [
        "import pandas as pd\n",
        "import numpy as np\n",
        "import matplotlib.pyplot as plt\n",
        "import sklearn.metrics as skm # metricas de similitud\n",
        "import scipy.spatial.distance as sc # metricas de distancia"
      ],
      "execution_count": null,
      "outputs": []
    },
    {
      "cell_type": "markdown",
      "metadata": {
        "id": "aP2rL3440dFf",
        "colab_type": "text"
      },
      "source": [
        "Si el ejercicio está ejecutandose en la plataforma **Google Colab**, se debe de cargar los datos a la plataforma para poder acceder a los mismos. La carga de los datos se realizá con el código siguiente.\n",
        "\n",
        "Si el ejercicio se está ejecutando de forma local se debe omitir el código siguiente."
      ]
    },
    {
      "cell_type": "code",
      "metadata": {
        "id": "C7B5HWWf0ijA",
        "colab_type": "code",
        "colab": {}
      },
      "source": [
        "from google.colab import files\n",
        "\n",
        "uploaded = files.upload()\n",
        "\n",
        "for fn in uploaded.keys():\n",
        "  print('User uploaded file \"{name}\" with length {length} bytes'.format(\n",
        "      name=fn, length=len(uploaded[fn])))"
      ],
      "execution_count": null,
      "outputs": []
    },
    {
      "cell_type": "markdown",
      "metadata": {
        "id": "0U3Cj8eN2cdh",
        "colab_type": "text"
      },
      "source": [
        "Leer e importar los datos mediante la paquetería pandas y los almacenamos en un DataFrame."
      ]
    },
    {
      "cell_type": "code",
      "metadata": {
        "id": "RYIXWP5w3EVC",
        "colab_type": "code",
        "colab": {}
      },
      "source": [
        "file_path = 'Test de películas.xlsx'\n",
        "data = pd.read_excel(file_path,encoding='latin_1',index_col=0)\n",
        "data.head()"
      ],
      "execution_count": null,
      "outputs": []
    },
    {
      "cell_type": "markdown",
      "metadata": {
        "id": "nBTtcqpW3keI",
        "colab_type": "text"
      },
      "source": [
        "Seleccionar las columnas que contienen los datos necesarios para limpiar los datos que serán usados."
      ]
    },
    {
      "cell_type": "code",
      "metadata": {
        "id": "8J_7qvrY4m9w",
        "colab_type": "code",
        "colab": {}
      },
      "source": [
        "def seleccionar_columnas(x):\n",
        "  csel = np.arange(9,246,3)\n",
        "  usuarios1 = list(x.iloc[:,6])\n",
        "  cnames1 = list(x.columns.values[csel])\n",
        "  x = x[cnames1]\n",
        "  x.index = usuarios1\n",
        "  x[np.isnan(x)]=0\n",
        "  return x\n",
        "\n",
        "datan =  seleccionar_columnas(data)\n",
        "datan.head()"
      ],
      "execution_count": null,
      "outputs": []
    },
    {
      "cell_type": "markdown",
      "metadata": {
        "id": "xQwXGzB05PwY",
        "colab_type": "text"
      },
      "source": [
        "## **Datos Binarios**\n",
        "\n",
        "Cambiar la calificación de estrellas (multiestado ordinal) a un rango de **me gusta** y **no me gusta**. Esta operación es necesaria porque los índices de similitud a probar son para datos binarios."
      ]
    },
    {
      "cell_type": "code",
      "metadata": {
        "id": "AqwiF_l-5_ox",
        "colab_type": "code",
        "colab": {}
      },
      "source": [
        "cnames = list(datan.columns.values)\n",
        "fnames = np.array(datan.index)\n",
        "for col in cnames:\n",
        "    datan[col]=np.where(datan[col]>3,1,0)\n",
        "datan.head()"
      ],
      "execution_count": null,
      "outputs": []
    },
    {
      "cell_type": "markdown",
      "metadata": {
        "id": "uY_h1ZZK9cAA",
        "colab_type": "text"
      },
      "source": [
        "Obtener la matriz de confusión (matriz de contingencia) y los indices de similitud."
      ]
    },
    {
      "cell_type": "code",
      "metadata": {
        "id": "F7wRRKhh9F2V",
        "colab_type": "code",
        "colab": {}
      },
      "source": [
        "cf_m = skm.confusion_matrix(datan.iloc[0,:],datan.iloc[1,:])\n",
        "\n",
        "sim_simple = skm.accuracy_score(datan.iloc[0,:],datan.iloc[1,:])\n",
        "#sim_simple_new = (cf_m[0,0]+cf_m[1,1])/np.sum(cf_m)\n",
        "print('Simple : %0.4f'%sim_simple)\n",
        "\n",
        "sim_jac = skm.jaccard_score(datan.iloc[0,:],datan.iloc[1,:])\n",
        "#sim_jac = (cf_m[1,1])/(np.sum(cf_m)-cf_m[0,0])\n",
        "print('Jaccard: %0.4f'%sim_jac)"
      ],
      "execution_count": null,
      "outputs": []
    },
    {
      "cell_type": "markdown",
      "metadata": {
        "id": "3jK21D9y-lTQ",
        "colab_type": "text"
      },
      "source": [
        "Dependiendo de la librería usado, algunas pueden calcular las distancias en lugar de los índices de similitud directamente."
      ]
    },
    {
      "cell_type": "code",
      "metadata": {
        "id": "dzTWXXW29TFJ",
        "colab_type": "code",
        "colab": {}
      },
      "source": [
        "#%% Calculo de las distancias\n",
        "d1 = sc.matching(datan.iloc[0,:],datan.iloc[1,:])\n",
        "print('Simple : %0.4f'%d1)\n",
        "d2 = sc.jaccard(datan.iloc[0,:],datan.iloc[1,:])\n",
        "print('Jaccard: %0.4f'%d2)"
      ],
      "execution_count": null,
      "outputs": []
    },
    {
      "cell_type": "markdown",
      "metadata": {
        "id": "J0Nx3pe-_iGp",
        "colab_type": "text"
      },
      "source": [
        "Calcular los índices de similitud puede ser complicado debido a que la cantidad de operaciones está en función de la cantidad de datos que se tienen en el conjunto de datos."
      ]
    },
    {
      "cell_type": "code",
      "metadata": {
        "id": "65ApLD9U_BQu",
        "colab_type": "code",
        "colab": {}
      },
      "source": [
        "#%% Calcular todas las combinaciones posibles\n",
        "D1 = sc.pdist(datan,'matching')\n",
        "D1 = sc.squareform(D1)\n",
        "\n",
        "D2 = sc.pdist(datan,'jaccard')\n",
        "D2 = sc.squareform(D2)"
      ],
      "execution_count": null,
      "outputs": []
    },
    {
      "cell_type": "code",
      "metadata": {
        "id": "hXvJCPpP_22l",
        "colab_type": "code",
        "colab": {}
      },
      "source": [
        "# Visualizar los índices calculados\n",
        "pd.DataFrame(D1)"
      ],
      "execution_count": null,
      "outputs": []
    },
    {
      "cell_type": "markdown",
      "metadata": {
        "id": "nnb0XWNSCt6z",
        "colab_type": "text"
      },
      "source": [
        "Tener todos los índices de similitud en una tabla puede confundir, y el uso dependerá de la finalidad de estas métricas. Por el momento nos enfocaremos a seleccionar un usuario en específico."
      ]
    },
    {
      "cell_type": "code",
      "metadata": {
        "id": "r5Wd03Pv_7UF",
        "colab_type": "code",
        "colab": {}
      },
      "source": [
        "#%% Seleccionar un usuario y determinar los demás usuarios más parecidos\n",
        "user = 1\n",
        "D_user = D1[user]\n",
        "D_user_sort = np.sort(D_user)\n",
        "indx_user = np.argsort(D_user)"
      ],
      "execution_count": null,
      "outputs": []
    },
    {
      "cell_type": "markdown",
      "metadata": {
        "id": "lVWbDb72Df75",
        "colab_type": "text"
      },
      "source": [
        "Recomendación de películas versión 1."
      ]
    },
    {
      "cell_type": "code",
      "metadata": {
        "id": "V07R7jKlDfFO",
        "colab_type": "code",
        "colab": {}
      },
      "source": [
        "User = datan.loc[fnames[user]]\n",
        "User_sim = datan.loc[fnames[indx_user[1]]]\n",
        "\n",
        "indx_recomen = (User_sim ==1)&(User==0)\n",
        "recomend1 = list(User.index[indx_recomen])\n",
        "recomend1"
      ],
      "execution_count": null,
      "outputs": []
    },
    {
      "cell_type": "markdown",
      "metadata": {
        "id": "VP5ebEGbErxf",
        "colab_type": "text"
      },
      "source": [
        "Recomendación de películas versión 2."
      ]
    },
    {
      "cell_type": "code",
      "metadata": {
        "id": "bzPnxilYDTT0",
        "colab_type": "code",
        "colab": {}
      },
      "source": [
        "User = datan.loc[fnames[user]]\n",
        "User_sim = np.mean(datan.loc[fnames[indx_user[1:6]]],axis=0)\n",
        "User_sim[User_sim<=0.5] = 0\n",
        "User_sim[User_sim>0.5] = 1\n",
        "\n",
        "indx_recomen = (User_sim ==1)&(User==0)\n",
        "recomend2 = list(User.index[indx_recomen])\n",
        "recomend2"
      ],
      "execution_count": null,
      "outputs": []
    },
    {
      "cell_type": "markdown",
      "metadata": {
        "id": "Vc72qLP1GAKr",
        "colab_type": "text"
      },
      "source": [
        "## **Datos Multiestado**\n",
        "\n",
        "Seleccionar los datos sin necesidad de convertir la escala de estrellas a datos binarios."
      ]
    },
    {
      "cell_type": "code",
      "metadata": {
        "id": "FULNWqAQEIYA",
        "colab_type": "code",
        "colab": {}
      },
      "source": [
        "datan =  seleccionar_columnas(data)\n",
        "datan.head()"
      ],
      "execution_count": null,
      "outputs": []
    },
    {
      "cell_type": "markdown",
      "metadata": {
        "id": "aDx6ouC4Ge6I",
        "colab_type": "text"
      },
      "source": [
        "Los índices de similitud más comunes están adaptados para funcionar con datos multiestado."
      ]
    },
    {
      "cell_type": "code",
      "metadata": {
        "id": "kbdNUnt6E75E",
        "colab_type": "code",
        "colab": {}
      },
      "source": [
        "cf_m = skm.confusion_matrix(datan.iloc[0,:],datan.iloc[1,:])\n",
        "sim_simple = skm.accuracy_score(datan.iloc[0,:],datan.iloc[1,:])\n",
        "sim_jac = skm.jaccard_score(datan.iloc[0,:],datan.iloc[1,:],average='weighted')"
      ],
      "execution_count": null,
      "outputs": []
    },
    {
      "cell_type": "markdown",
      "metadata": {
        "id": "_8ZqlXqQHWJ-",
        "colab_type": "text"
      },
      "source": [
        "Para los índices de similitud que no están adaptados, pueden convertirse los datos multiestado a datos binarios usando variables auxiliares."
      ]
    },
    {
      "cell_type": "code",
      "metadata": {
        "id": "nULHtcc5HFT5",
        "colab_type": "code",
        "colab": {}
      },
      "source": [
        "#%% Generar variables dummies \n",
        "dum1 = pd.get_dummies(datan[cnames[0]])\n",
        "#dum1 = pd.get_dummies(datan[cnames[0]],prefix=cnames[0])\n",
        "dum1"
      ],
      "execution_count": null,
      "outputs": []
    },
    {
      "cell_type": "markdown",
      "metadata": {
        "id": "E1ytRiQOIlQ9",
        "colab_type": "text"
      },
      "source": [
        "Obteniendo todas las variables auxiliares de todas las películas, hace que el conjunto de datos crezca considerablemente."
      ]
    },
    {
      "cell_type": "code",
      "metadata": {
        "id": "IR5F2cLvHGeC",
        "colab_type": "code",
        "colab": {}
      },
      "source": [
        "datan_dum = pd.get_dummies(datan[cnames[0]],prefix=cnames[0])\n",
        "for col in cnames[1:]:\n",
        "    tmp = pd.get_dummies(datan[col],prefix=col)\n",
        "    datan_dum = datan_dum.join(tmp)\n",
        "del tmp\n",
        "datan_dum.head()"
      ],
      "execution_count": null,
      "outputs": []
    },
    {
      "cell_type": "markdown",
      "metadata": {
        "id": "xNfP57B3JBzb",
        "colab_type": "text"
      },
      "source": [
        "## **Datos Cuantitativos**\n",
        "\n",
        "Los datos cuantitativos pueden procesarse directamente por medio de otros índices de similitud diseñados para este tipo de datos."
      ]
    },
    {
      "cell_type": "code",
      "metadata": {
        "id": "L52P1FyFIvrA",
        "colab_type": "code",
        "colab": {}
      },
      "source": [
        "datan =  seleccionar_columnas(data)\n",
        "datan.head()"
      ],
      "execution_count": null,
      "outputs": []
    },
    {
      "cell_type": "markdown",
      "metadata": {
        "id": "bX13vIUbJc8d",
        "colab_type": "text"
      },
      "source": [
        "La distancia Euclideana puede considerarse como una métrica de similitud porque mide la distancia geométrica entre dos puntos en un espacio multidimensional."
      ]
    },
    {
      "cell_type": "code",
      "metadata": {
        "id": "FTCLXtdjJbQR",
        "colab_type": "code",
        "colab": {}
      },
      "source": [
        "#%% Distancia Euclideana\n",
        "D1 = sc.pdist(datan,'euclidean')\n",
        "D1 = sc.squareform(D1)\n",
        "pd.DataFrame(D1)"
      ],
      "execution_count": null,
      "outputs": []
    },
    {
      "cell_type": "markdown",
      "metadata": {
        "id": "PLHAWW7gKBXe",
        "colab_type": "text"
      },
      "source": [
        "La distancia coseno mide el ángulo entre dos punto en un espacio multidimensional."
      ]
    },
    {
      "cell_type": "code",
      "metadata": {
        "id": "_r4suc4yJ9JQ",
        "colab_type": "code",
        "colab": {}
      },
      "source": [
        "#%% Distancia coseno\n",
        "D2 = sc.pdist(datan,'cosine')\n",
        "D2 = sc.squareform(D2)\n",
        "pd.DataFrame(D2)"
      ],
      "execution_count": null,
      "outputs": []
    },
    {
      "cell_type": "markdown",
      "metadata": {
        "id": "C73xYJXcKUnc",
        "colab_type": "text"
      },
      "source": [
        "El índice de correlación tambien puede ser usada para medir la similitud entre muestras en un conjunto de datos."
      ]
    },
    {
      "cell_type": "code",
      "metadata": {
        "id": "ahgasfIeKvXO",
        "colab_type": "code",
        "colab": {}
      },
      "source": [
        "#%% Indice correlación\n",
        "D3 = sc.pdist(datan,'correlation')\n",
        "D3 = sc.squareform(D3)\n",
        "pd.DataFrame(D3)"
      ],
      "execution_count": null,
      "outputs": []
    },
    {
      "cell_type": "code",
      "metadata": {
        "id": "FgdiW3LhK0Ce",
        "colab_type": "code",
        "colab": {}
      },
      "source": [
        ""
      ],
      "execution_count": null,
      "outputs": []
    }
  ]
}